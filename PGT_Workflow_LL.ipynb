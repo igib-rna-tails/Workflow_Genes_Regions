{
 "cells": [
  {
   "cell_type": "markdown",
   "metadata": {},
   "source": [
    "# Workflow of preparation of Sequencing data and usage of PyGenomeTrack as a tool to visualize genome regions\n",
    "\n",
    "This notebook contains a procedure to prepare the sequencing data and to create the region plots. \n",
    "The workflow describes the tools to convert the files into the formats: BED6, BED12, BAM, and BIGWIG. Additionally, we formed the helper functions to create .ini files from scratch.\n",
    "\n",
    "The [PyGenomeTrack](https://github.com/deeptools/pyGenomeTracks) aims to produce high-quality genome browser tracks.\n",
    "\n",
    "The main steps:\n",
    "    0. Installation of requirements.\n",
    "    1. Prepare your .gff3 files.\n",
    "    2. Convert .gff3 into .bed6.\n",
    "    3. Convert .gff3 into .bed12.\n",
    "    4. Make .bigwig file from BAM/SAM format.\n",
    "    5. Prepare the .ini files - from scrach or by edition of the example file.\n",
    "    6. PyGenomeTracks - make tracks file.\n",
    "    7. PyGenomeTracks - make region plot\n",
    "\n",
    "__HINT: Exclamation mark (!) at the beginning of line allows to use bash commands from jupyter notebook__\n"
   ]
  },
  {
   "cell_type": "markdown",
   "metadata": {},
   "source": [
    "### Requirements:\n",
    "    Anaconda\n",
    "    Python 2.7 or Python 3.x\n",
    "    PyGenomeTrack\n",
    "    samtools\n",
    "    bedtools\n",
    "    sortbed\n",
    "    gff3togenepred\n",
    "    genepredtobed\n",
    "    numpy >= 1.8.0\n",
    "    scipy >= 0.17.0\n",
    "    py2bit >= 0.1.0\n",
    "    pyBigWig >= 0.2.1\n",
    "    pysam >= 0.8\n",
    "    matplotlib >= 1.4.0\n",
    "    deeptools\n"
   ]
  },
  {
   "cell_type": "markdown",
   "metadata": {},
   "source": [
    "### Types of formats\n",
    "* [GFF3](https://www.ensembl.org/info/website/upload/gff3.html) - General Feature Format Version 3\n",
    "* [BED6/BED12](https://genome.ucsc.edu/FAQ/FAQformat.html#format1) - Browser Extensible Data\n",
    "* The [BIGWIG](https://genome.ucsc.edu/goldenPath/help/bigWig.html) format is useful for dense, continuous data that will be displayed in the Genome Browser as a graph.\n",
    "* The __INI__ file format is an informal standard for configuration files.\n",
    "* [SAM](https://samtools.github.io/hts-specs/SAMv1.pdf) - Sequence Alignment Map\n",
    "* [BAM](https://genome.ucsc.edu/goldenPath/help/bam.html) is the compressed binary version of the Sequence Alignment/Map (SAM) format, a compact and index-able representation of nucleotide sequence alignment.\n",
    "* [genePred](http://genome.ucsc.edu/FAQ/FAQformat#format9) is a table format commonly used for gene prediction tracks in the Genome Browser."
   ]
  },
  {
   "cell_type": "markdown",
   "metadata": {},
   "source": [
    "## 0. Installation of requirenments"
   ]
  },
  {
   "cell_type": "markdown",
   "metadata": {},
   "source": [
    "##### Installation of PyGenomeTrack\n",
    "\n",
    "pyGenomeTracks works with python 2.7 and python 3.6. \n",
    "\n",
    "1. Install PyGenomeTrack with Anaconda:\n",
    "\n",
    "        conda install -c bioconda pygenometracks \n",
    "    \n",
    "2. Also, pyGenomeTracks can be installed using pip\n",
    "\n",
    "        pip install pyGenomeTracks\n",
    "    \n",
    "3. If the latest version wants to be installed use:\n",
    "\n",
    "        pip install  git+https://github.com/maxplanck-ie/pyGenomeTracks.git"
   ]
  },
  {
   "cell_type": "code",
   "execution_count": 1,
   "metadata": {},
   "outputs": [
    {
     "name": "stdout",
     "output_type": "stream",
     "text": [
      "Collecting package metadata: done\n",
      "Solving environment: - ^C\n"
     ]
    }
   ],
   "source": [
    "# Installation of PyGenomeTrack with Anaconda\n",
    "!conda install -c bioconda pygenometracks "
   ]
  },
  {
   "cell_type": "code",
   "execution_count": null,
   "metadata": {},
   "outputs": [],
   "source": [
    "# Installation of gff3togenepred\n",
    "!conda install ucsc-gff3togenepred"
   ]
  },
  {
   "cell_type": "code",
   "execution_count": null,
   "metadata": {},
   "outputs": [],
   "source": [
    "# Update of gff3togenepred\n",
    "!conda update ucsc-gff3togenepred"
   ]
  },
  {
   "cell_type": "code",
   "execution_count": null,
   "metadata": {},
   "outputs": [],
   "source": [
    "# Inslallation of GenePredToBed\n",
    "!conda install -c bioconda ucsc-genepredtobed"
   ]
  },
  {
   "cell_type": "code",
   "execution_count": null,
   "metadata": {},
   "outputs": [],
   "source": [
    "# Installation of piBigWig\n",
    "!pip install pyBigWig # with pip install\n",
    "\n",
    "!conda install pybigwig -c bioconda # or with bioconda"
   ]
  },
  {
   "cell_type": "markdown",
   "metadata": {},
   "source": [
    "## 1. Prepare your GFF3 and SAM/BAM files\n",
    "\n",
    "Please look carefully at your GFF3 file. Delete unsufficient lines in your file."
   ]
  },
  {
   "cell_type": "markdown",
   "metadata": {},
   "source": [
    "## 2. Convert .gff3 into .bed6\n",
    "    sortBed -i <gff3_file.gff3> | gff2bed > <bed_file.bed>"
   ]
  },
  {
   "cell_type": "code",
   "execution_count": 71,
   "metadata": {},
   "outputs": [],
   "source": [
    "# Example\n",
    "!sortBed -i newSP.gff3 | gff2bed > file_bed6.bed"
   ]
  },
  {
   "cell_type": "code",
   "execution_count": 82,
   "metadata": {},
   "outputs": [],
   "source": [
    "# Sort Bed6:\n",
    "!sort -k 1,1 -k2,2n file_bed6_sor1.bed > file_bed6_sorted.bed"
   ]
  },
  {
   "cell_type": "code",
   "execution_count": 46,
   "metadata": {},
   "outputs": [],
   "source": [
    "# Sort Bed12:\n",
    "!sort -k 1,1 -k2,2n file_bed12.bed > file_bed12_sorted.bed"
   ]
  },
  {
   "cell_type": "markdown",
   "metadata": {},
   "source": [
    "## 3. Convert .gff3 into .bed12\n",
    "    gff3ToGenePred infile.gff3 temp.genePre\n",
    "    \n",
    "__HINT:__ Possible error 'CDS feature must have phase'. \n",
    "Phase is a parameter in column 8 of gff3 (only for features CDS).\n",
    "Add phases in the gff3 file according to the notes below.\n",
    "You can just open your GFF3 file and add 0 in column 8 in the lines with CDS, eg. using Rgular Expressions\n",
    "In case ot the another type of error, ex \"Error: invalid genePred created: SPAC17G8.01c.1 I:2341250-2343947\", look carefully at your gff3 and check if your exons are overlapping.\n",
    "\n",
    "\n",
    "\"Phase specifies how many nucleotides must be removed from the beginning of a CDS to reach a complete codon \n",
    "(0, 1 or 2). If phase is missing, the CDS cannot be translated without making dangerous assumptions about \n",
    "the data. Specifically, you have to assume that the first CDS has a phase of 0. For poorly assembled genomes, \n",
    "this may not by the case.\n",
    "Even if the assumption always holds, a CDS without phase data can be hard to work with since you cannot \n",
    "translate an individual CDS without considering the other members of the model.\n",
    "According to the GFF specification, phase information is required for CDS entries and is stored \n",
    "in the 8th column.\" (Source: https://support.bioconductor.org/p/101245/ available: 2019.04.03)\n"
   ]
  },
  {
   "cell_type": "code",
   "execution_count": 6,
   "metadata": {},
   "outputs": [],
   "source": [
    "# Sort the GFF3 file by column 1 (chromosomes) and 4 (start positions) as:\n",
    "!sort -k1,1 -k4,4n newSP_phase.gff3 > newSP_phase_sorted.gff3"
   ]
  },
  {
   "cell_type": "code",
   "execution_count": 25,
   "metadata": {},
   "outputs": [
    {
     "data": {
      "text/plain": [
       "'\\n\"Phase specifies how many nucleotides must be removed from the beginning of a CDS to reach a complete codon \\n(0, 1 or 2). If phase is missing, the CDS cannot be translated without making dangerous assumptions about \\nthe data. Specifically, you have to assume that the first CDS has a phase of 0. For poorly assembled genomes, \\nthis may not by the case.\\nEven if the assumption always holds, a CDS without phase data can be hard to work with since you cannot \\ntranslate an individual CDS without considering the other members of the model.\\nAccording to the GFF specification, phase information is required for CDS entries and is stored \\nin the 8th column.\" (Source: https://support.bioconductor.org/p/101245/ available: 2019.04.03)\\n'"
      ]
     },
     "execution_count": 25,
     "metadata": {},
     "output_type": "execute_result"
    }
   ],
   "source": [
    "# Creating the temporary file .genePred from gff3\n",
    "!gff3ToGenePred newSP_phase_sorted.gff3 temp.genePred \n",
    "\n",
    "#\"newSP_phase.gff3\" is a gff3 file with phases in column 8."
   ]
  },
  {
   "cell_type": "code",
   "execution_count": 42,
   "metadata": {},
   "outputs": [],
   "source": [
    "# Creating BED file from temporary file\n",
    "!genePredToBed temp.genePred file_bed12.bed"
   ]
  },
  {
   "cell_type": "markdown",
   "metadata": {},
   "source": [
    "## 4. Make .bigwig file"
   ]
  },
  {
   "cell_type": "markdown",
   "metadata": {},
   "source": [
    "##### Conversion of SAM format to BAM format (if your data are in SAM)\n",
    "        samtools view -S <sam_file.sam> -b -o <bam_file.bam>"
   ]
  },
  {
   "cell_type": "code",
   "execution_count": null,
   "metadata": {},
   "outputs": [],
   "source": [
    "#Convert SAM to BAM\n",
    "!samtools view -S short_C1_1.sam -b -o short_C1_1.bam"
   ]
  },
  {
   "cell_type": "markdown",
   "metadata": {},
   "source": [
    "##### Conversion of BAM format to BIGWIG using [bamCoverage from deeptools](https://deeptools.readthedocs.io/en/develop/content/tools/bamCoverage.html#Required%20arguments)\n",
    "\n",
    "Requirenments:\n",
    "- Python 2.7 or Python 3.x\n",
    "- numpy >= 1.8.0\n",
    "- scipy >= 0.17.0\n",
    "- py2bit >= 0.1.0\n",
    "- pyBigWig >= 0.2.1\n",
    "- pysam >= 0.8\n",
    "- matplotlib >= 1.4.0\n",
    "- deeptools\n",
    "- samtools\n",
    "\n",
    "Steps:\n",
    "    1. Sort BAM file\n",
    "        samtools sort -n <bam_file.bam>\n",
    "    2. Add index to bam file\n",
    "        samtools index <bam_file.bam>\n",
    "    3. Convert indexed bam to bigwig\n",
    "        bamCoverage -b <bamfile.bam> -o <bibwigfile.bw>"
   ]
  },
  {
   "cell_type": "markdown",
   "metadata": {},
   "source": [
    "##### Sort and add index to BAM file - it is a necessary step"
   ]
  },
  {
   "cell_type": "code",
   "execution_count": 28,
   "metadata": {},
   "outputs": [
    {
     "name": "stdout",
     "output_type": "stream",
     "text": [
      "[W::bam_hdr_read] EOF marker is absent. The input is probably truncated\n",
      "^C\n"
     ]
    }
   ],
   "source": [
    "# Sort the BAM file \n",
    "!samtools sort -n C1_1.bam"
   ]
  },
  {
   "cell_type": "code",
   "execution_count": 29,
   "metadata": {},
   "outputs": [
    {
     "name": "stdout",
     "output_type": "stream",
     "text": [
      "[W::bam_hdr_read] EOF marker is absent. The input is probably truncated\r\n",
      "[E::hts_idx_push] Chromosome blocks not continuous\r\n",
      "samtools index: failed to create index for \"C1_1.bam\"\r\n"
     ]
    }
   ],
   "source": [
    "# Add index to BAM file\n",
    "!samtools index -b C1_1.bam"
   ]
  },
  {
   "cell_type": "markdown",
   "metadata": {},
   "source": [
    "##### Make BIGWIG from indexed BAM"
   ]
  },
  {
   "cell_type": "code",
   "execution_count": null,
   "metadata": {},
   "outputs": [],
   "source": [
    "# Convert indexed bam to bigwig\n",
    "!bamCoverage -b short_C1_1.bam -o bigwig.bw"
   ]
  },
  {
   "cell_type": "markdown",
   "metadata": {},
   "source": [
    "##### Short look at the bigwig file"
   ]
  },
  {
   "cell_type": "code",
   "execution_count": null,
   "metadata": {},
   "outputs": [],
   "source": [
    "import pyBigWig\n",
    "\n",
    "bw = pyBigWig.open(\"bigwig.bw\")\n",
    "bw.header()"
   ]
  },
  {
   "cell_type": "markdown",
   "metadata": {},
   "source": [
    "## 5. Preparation of the INI file\n",
    "#### You can prepare your INI file from scratch (protocol below). However, we strongly recommend to use previously prepared INI files, and just edit them."
   ]
  },
  {
   "cell_type": "markdown",
   "metadata": {},
   "source": [
    "##### Preparation of INI file from scratch\n",
    "..............................."
   ]
  },
  {
   "cell_type": "markdown",
   "metadata": {},
   "source": [
    "## 6. PyGenomeTracks - make tracks file\n",
    "Making tracks file is necessary to create the plot\n",
    "\n",
    "__HINT:__ Make sure to take the right .bed, .bw, and .ini files.\n",
    "If you change the name of BED file, you need to rewrite it in the .ini file."
   ]
  },
  {
   "cell_type": "code",
   "execution_count": 95,
   "metadata": {},
   "outputs": [
    {
     "name": "stdout",
     "output_type": "stream",
     "text": [
      "Adding bed file: file_bed6_sorted.bed\r\n",
      "Adding bigwig file: bigwig_bed6.bw\r\n"
     ]
    }
   ],
   "source": [
    "# Making tracks file is necessary to create the plot\n",
    "#\n",
    "# HINT: Make sure to take the right .bed, .bw, and .ini files.\n",
    "# If you change the name of BED file, you need to rewrite it in the .ini file. \n",
    "\n",
    "#PyGenomeTrack using BED6\n",
    "!make_tracks_file --trackFiles file_bed6_sorted.bed bigwig_bed6.bw -o ini_file_BED6.ini"
   ]
  },
  {
   "cell_type": "code",
   "execution_count": 89,
   "metadata": {},
   "outputs": [
    {
     "name": "stdout",
     "output_type": "stream",
     "text": [
      "Adding bed file: file_bed12_sorted.bed\r\n",
      "Adding bigwig file: bigwig_bed6.bw\r\n"
     ]
    }
   ],
   "source": [
    "#PyGenomeTrack using BED12\n",
    "!make_tracks_file --trackFiles file_bed12_sorted.bed bigwig_bed6.bw -o ini_file_BED12.ini"
   ]
  },
  {
   "cell_type": "markdown",
   "metadata": {},
   "source": [
    "## 7. PyGenomeTracks - make region plot\n",
    "\n",
    "##### Create region plot and save it as .png or .pdf\n",
    "    !pyGenomeTracks --tracks <ini_file.ini> --region I:1,800,000-1,820,000 --outFileName <png_file.png>\n",
    "    !pyGenomeTracks --tracks <ini_file.ini> --region I:1,800,000-1,820,000 --outFileName <pdf_file.pdf>"
   ]
  },
  {
   "cell_type": "markdown",
   "metadata": {},
   "source": [
    "##### The example region plot using BED6 format:\n",
    "\n",
    "If you want to have differebt colours for genes, UTRs etc., mark it in column 5 in bed6 file."
   ]
  },
  {
   "cell_type": "code",
   "execution_count": 120,
   "metadata": {},
   "outputs": [
    {
     "name": "stdout",
     "output_type": "stream",
     "text": [
      "INFO:pygenometracks.tracksClass:time initializing track(s):\n",
      "INFO:pygenometracks.tracksClass:4.082379102706909\n",
      "DEBUG:pygenometracks.tracksClass:Figure size in cm is 40 x 9.0. Dpi is set to 72\n",
      "\n",
      "INFO:pygenometracks.tracksClass:plotting 1. [x-axis]\n",
      "/home/lidka/anaconda3/lib/python3.6/site-packages/matplotlib/cbook/__init__.py:424: MatplotlibDeprecationWarning: \n",
      "Passing one of 'on', 'true', 'off', 'false' as a boolean is deprecated; use an actual boolean (True/False) instead.\n",
      "  warn_deprecated(\"2.2\", \"Passing one of 'on', 'true', 'off', 'false' as a \"\n",
      "INFO:pygenometracks.tracksClass:plotting 2. [spacer]\n",
      "INFO:pygenometracks.tracksClass:plotting 3. [file_bed6_sorted]\n",
      "DEBUG:pygenometracks.tracks.GenomeTrack:ylim 1709.9999999999998,0\n",
      "INFO:pygenometracks.tracksClass:plotting 4. [bigwig_bed6]\n"
     ]
    }
   ],
   "source": [
    "# Create the region plot\n",
    "!pyGenomeTracks --tracks ini_file_BED6.ini --region I:108,000-115,000 --outFileName bed6_8.png\n",
    "# !pyGenomeTracks --tracks ini_file_BED6.ini --region I:1,000,000-1,050,000 --outFileName bed6_1.pdf"
   ]
  },
  {
   "cell_type": "code",
   "execution_count": 121,
   "metadata": {},
   "outputs": [
    {
     "data": {
      "image/png": "[encoded data removed]",
      "text/plain": [
       "<IPython.core.display.Image object>"
      ]
     },
     "execution_count": 121,
     "metadata": {},
     "output_type": "execute_result"
    }
   ],
   "source": [
    "# Look at the new plot\n",
    "from IPython.display import Image\n",
    "\n",
    "#The name of the new file (.png) with plot showing genomic location\n",
    "#\n",
    "# Just copy the name of new .png file\n",
    "\n",
    "png_file_name_bed6 = \"bed6_8.png\"\n",
    "Image(png_file_name_bed6)"
   ]
  },
  {
   "cell_type": "markdown",
   "metadata": {},
   "source": [
    "##### The example region plot using BED12 format:"
   ]
  },
  {
   "cell_type": "code",
   "execution_count": 122,
   "metadata": {},
   "outputs": [
    {
     "name": "stdout",
     "output_type": "stream",
     "text": [
      "INFO:pygenometracks.tracksClass:time initializing track(s):\n",
      "INFO:pygenometracks.tracksClass:1.5025415420532227\n",
      "DEBUG:pygenometracks.tracksClass:Figure size in cm is 40 x 9.0. Dpi is set to 72\n",
      "\n",
      "INFO:pygenometracks.tracksClass:plotting 1. [x-axis]\n",
      "/home/lidka/anaconda3/lib/python3.6/site-packages/matplotlib/cbook/__init__.py:424: MatplotlibDeprecationWarning: \n",
      "Passing one of 'on', 'true', 'off', 'false' as a boolean is deprecated; use an actual boolean (True/False) instead.\n",
      "  warn_deprecated(\"2.2\", \"Passing one of 'on', 'true', 'off', 'false' as a \"\n",
      "INFO:pygenometracks.tracksClass:plotting 2. [spacer]\n",
      "INFO:pygenometracks.tracksClass:plotting 3. [file_bed12_sorted]\n",
      "DEBUG:pygenometracks.tracks.GenomeTrack:ylim 330.0,0\n",
      "INFO:pygenometracks.tracksClass:plotting 4. [bigwig_bed6]\n"
     ]
    }
   ],
   "source": [
    "# Create the region plot\n",
    "!pyGenomeTracks --tracks ini_file_BED12.ini --region I:108,000-115,000 --outFileName bed12_8.png\n",
    "# !pyGenomeTracks --tracks ini_file_BED12.ini --region I:1,000,000-1,050,000 --outFileName bed12_3.pdf"
   ]
  },
  {
   "cell_type": "code",
   "execution_count": 123,
   "metadata": {},
   "outputs": [
    {
     "data": {
      "image/png": "[encoded data removed]",
      "text/plain": [
       "<IPython.core.display.Image object>"
      ]
     },
     "execution_count": 123,
     "metadata": {},
     "output_type": "execute_result"
    }
   ],
   "source": [
    "# Look at the new plot\n",
    "from IPython.display import Image\n",
    "\n",
    "#The name of the new file (.png) with plot showing genomic location\n",
    "#\n",
    "# Just copy the name of new .png file\n",
    "\n",
    "png_file_name_bed12 = \"bed12_8.png\"\n",
    "Image(png_file_name_bed12)"
   ]
  },
  {
   "cell_type": "code",
   "execution_count": null,
   "metadata": {},
   "outputs": [],
   "source": []
  }
 ],
 "metadata": {
  "kernelspec": {
   "display_name": "Python 3",
   "language": "python",
   "name": "python3"
  },
  "language_info": {
   "codemirror_mode": {
    "name": "ipython",
    "version": 3
   },
   "file_extension": ".py",
   "mimetype": "text/x-python",
   "name": "python",
   "nbconvert_exporter": "python",
   "pygments_lexer": "ipython3",
   "version": "3.6.7"
  }
 },
 "nbformat": 4,
 "nbformat_minor": 2
}
