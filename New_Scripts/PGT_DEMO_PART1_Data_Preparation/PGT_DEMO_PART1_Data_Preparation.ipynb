{
 "cells": [
  {
   "cell_type": "markdown",
   "metadata": {},
   "source": [
    "# Workflow for genomic data visualization using PyGenomeTrack\n",
    "# Part 1: Data Preparation\n",
    "\n",
    "***\n",
    ">This notebook contains a procedure to prepare the sequencing data and to create the region plots. \n",
    "The workflow describes the tools to convert the files into the formats: BED6, BED12, BAM, and BIGWIG. Additionally, we formed the helper functions to create .ini files from scratch.\n",
    "\n",
    "> The [PyGenomeTrack](https://github.com/deeptools/pyGenomeTracks) aims to produce high-quality genome browser tracks.\n",
    "\n",
    "> The main steps:\n",
    "    0. Installation of requirements.\n",
    "    1. Prepare your .gff3 files.\n",
    "    2. Convert .gff3 into .bed6.\n",
    "    3. Convert .gff3 into .bed12.\n",
    "    4. Make .bigwig file from BAM/SAM format.\n",
    "    5. Prepare the .ini files - from scrach or by edition of the example file.\n",
    "\n",
    "> __HINT:__ Exclamation mark (!) at the beginning of line allows to use bash commands from the jupyter notebook.\n",
    "***"
   ]
  },
  {
   "cell_type": "markdown",
   "metadata": {},
   "source": [
    "***\n",
    "### Types of file formats used in this Notebook:\n",
    "* [GFF3](https://www.ensembl.org/info/website/upload/gff3.html) - General Feature Format Version 3\n",
    "* [BED6/BED12](https://genome.ucsc.edu/FAQ/FAQformat.html#format1) - Browser Extensible Data\n",
    "* The [BIGWIG](https://genome.ucsc.edu/goldenPath/help/bigWig.html) format is useful for dense, continuous data that will be displayed in the Genome Browser as a graph.\n",
    "* The __INI__ file format is an informal standard for configuration files.\n",
    "* [SAM](https://samtools.github.io/hts-specs/SAMv1.pdf) - Sequence Alignment Map\n",
    "* [BAM](https://genome.ucsc.edu/goldenPath/help/bam.html) is the compressed binary version of the Sequence Alignment/Map (SAM) format, a compact and index-able representation of nucleotide sequence alignment.\n",
    "* [genePred](http://genome.ucsc.edu/FAQ/FAQformat#format9) is a table format commonly used for gene prediction tracks in the Genome Browser.\n",
    "***"
   ]
  },
  {
   "cell_type": "markdown",
   "metadata": {},
   "source": [
    "## 0. Installation of requirements"
   ]
  },
  {
   "cell_type": "markdown",
   "metadata": {},
   "source": [
    "### A) Installation from file 'requirements.txt' using \"pip install\"\n",
    "> __HINT:__ We recommend to install the requirements in a virtual environment to avoid inconsistencies in the local environment."
   ]
  },
  {
   "cell_type": "code",
   "execution_count": 5,
   "metadata": {},
   "outputs": [
    {
     "name": "stdout",
     "output_type": "stream",
     "text": [
      "Requirement already satisfied: asn1crypto==0.24.0 in /home/lidia/anaconda3/envs/dm4/lib/python3.7/site-packages (from -r requirements.txt (line 1)) (0.24.0)\n",
      "Requirement already satisfied: certifi==2019.3.9 in /home/lidia/anaconda3/envs/dm4/lib/python3.7/site-packages (from -r requirements.txt (line 2)) (2019.3.9)\n",
      "Requirement already satisfied: cffi==1.11.5 in /home/lidia/anaconda3/envs/dm4/lib/python3.7/site-packages (from -r requirements.txt (line 3)) (1.11.5)\n",
      "Requirement already satisfied: chardet==3.0.4 in /home/lidia/anaconda3/envs/dm4/lib/python3.7/site-packages (from -r requirements.txt (line 4)) (3.0.4)\n",
      "Requirement already satisfied: cryptography==2.4.2 in /home/lidia/anaconda3/envs/dm4/lib/python3.7/site-packages (from -r requirements.txt (line 5)) (2.4.2)\n",
      "Requirement already satisfied: idna==2.8 in /home/lidia/anaconda3/envs/dm4/lib/python3.7/site-packages (from -r requirements.txt (line 6)) (2.8)\n",
      "Requirement already satisfied: pycosat==0.6.3 in /home/lidia/anaconda3/envs/dm4/lib/python3.7/site-packages (from -r requirements.txt (line 7)) (0.6.3)\n",
      "Requirement already satisfied: pycparser==2.19 in /home/lidia/anaconda3/envs/dm4/lib/python3.7/site-packages (from -r requirements.txt (line 8)) (2.19)\n",
      "Requirement already satisfied: pyOpenSSL==18.0.0 in /home/lidia/anaconda3/envs/dm4/lib/python3.7/site-packages (from -r requirements.txt (line 9)) (18.0.0)\n",
      "Requirement already satisfied: PySocks==1.6.8 in /home/lidia/anaconda3/envs/dm4/lib/python3.7/site-packages (from -r requirements.txt (line 10)) (1.6.8)\n",
      "Requirement already satisfied: requests==2.21.0 in /home/lidia/anaconda3/envs/dm4/lib/python3.7/site-packages (from -r requirements.txt (line 11)) (2.21.0)\n",
      "Requirement already satisfied: ruamel-yaml==0.15.46 in /home/lidia/anaconda3/envs/dm4/lib/python3.7/site-packages (from -r requirements.txt (line 12)) (0.15.46)\n",
      "Requirement already satisfied: six==1.12.0 in /home/lidia/anaconda3/envs/dm4/lib/python3.7/site-packages (from -r requirements.txt (line 13)) (1.12.0)\n",
      "Requirement already satisfied: urllib3==1.24.1 in /home/lidia/anaconda3/envs/dm4/lib/python3.7/site-packages (from -r requirements.txt (line 14)) (1.24.1)\n",
      "Requirement already satisfied: numpy>=1.8.0 in /home/lidia/anaconda3/envs/dm4/lib/python3.7/site-packages (from -r requirements.txt (line 21)) (1.16.3)\n",
      "Requirement already satisfied: scipy>=0.17.0 in /home/lidia/anaconda3/envs/dm4/lib/python3.7/site-packages (from -r requirements.txt (line 22)) (1.2.1)\n",
      "Requirement already satisfied: py2bit>=0.1.0 in /home/lidia/anaconda3/envs/dm4/lib/python3.7/site-packages (from -r requirements.txt (line 23)) (0.3.0)\n",
      "Requirement already satisfied: pyBigWig>=0.2.1 in /home/lidia/anaconda3/envs/dm4/lib/python3.7/site-packages (from -r requirements.txt (line 24)) (0.3.16)\n",
      "Requirement already satisfied: pysam>=0.8 in /home/lidia/anaconda3/envs/dm4/lib/python3.7/site-packages (from -r requirements.txt (line 25)) (0.15.2)\n",
      "Requirement already satisfied: matplotlib>=1.4.0 in /home/lidia/anaconda3/envs/dm4/lib/python3.7/site-packages (from -r requirements.txt (line 26)) (2.2.2)\n",
      "Requirement already satisfied: deeptools in /home/lidia/anaconda3/envs/dm4/lib/python3.7/site-packages (from -r requirements.txt (line 27)) (3.3.0)\n",
      "Requirement already satisfied: cycler>=0.10 in /home/lidia/anaconda3/envs/dm4/lib/python3.7/site-packages (from matplotlib>=1.4.0->-r requirements.txt (line 26)) (0.10.0)\n",
      "Requirement already satisfied: pyparsing!=2.0.4,!=2.1.2,!=2.1.6,>=2.0.1 in /home/lidia/anaconda3/envs/dm4/lib/python3.7/site-packages (from matplotlib>=1.4.0->-r requirements.txt (line 26)) (2.4.0)\n",
      "Requirement already satisfied: python-dateutil>=2.1 in /home/lidia/anaconda3/envs/dm4/lib/python3.7/site-packages (from matplotlib>=1.4.0->-r requirements.txt (line 26)) (2.8.0)\n",
      "Requirement already satisfied: pytz in /home/lidia/anaconda3/envs/dm4/lib/python3.7/site-packages (from matplotlib>=1.4.0->-r requirements.txt (line 26)) (2019.1)\n",
      "Requirement already satisfied: kiwisolver>=1.0.1 in /home/lidia/anaconda3/envs/dm4/lib/python3.7/site-packages (from matplotlib>=1.4.0->-r requirements.txt (line 26)) (1.1.0)\n",
      "Requirement already satisfied: numpydoc>=0.5 in /home/lidia/anaconda3/envs/dm4/lib/python3.7/site-packages (from deeptools->-r requirements.txt (line 27)) (0.9.1)\n",
      "Requirement already satisfied: deeptoolsintervals>=0.1.8 in /home/lidia/anaconda3/envs/dm4/lib/python3.7/site-packages (from deeptools->-r requirements.txt (line 27)) (0.1.8)\n",
      "Requirement already satisfied: plotly>=2.0.0 in /home/lidia/anaconda3/envs/dm4/lib/python3.7/site-packages (from deeptools->-r requirements.txt (line 27)) (3.10.0)\n",
      "Requirement already satisfied: setuptools in /home/lidia/anaconda3/envs/dm4/lib/python3.7/site-packages (from kiwisolver>=1.0.1->matplotlib>=1.4.0->-r requirements.txt (line 26)) (40.6.3)\n",
      "Requirement already satisfied: sphinx>=1.6.5 in /home/lidia/anaconda3/envs/dm4/lib/python3.7/site-packages (from numpydoc>=0.5->deeptools->-r requirements.txt (line 27)) (2.1.0)\n",
      "Requirement already satisfied: Jinja2>=2.3 in /home/lidia/anaconda3/envs/dm4/lib/python3.7/site-packages (from numpydoc>=0.5->deeptools->-r requirements.txt (line 27)) (2.10.1)\n",
      "Requirement already satisfied: retrying>=1.3.3 in /home/lidia/anaconda3/envs/dm4/lib/python3.7/site-packages (from plotly>=2.0.0->deeptools->-r requirements.txt (line 27)) (1.3.3)\n",
      "Requirement already satisfied: nbformat>=4.2 in /home/lidia/anaconda3/envs/dm4/lib/python3.7/site-packages (from plotly>=2.0.0->deeptools->-r requirements.txt (line 27)) (4.4.0)\n",
      "Requirement already satisfied: decorator>=4.0.6 in /home/lidia/anaconda3/envs/dm4/lib/python3.7/site-packages (from plotly>=2.0.0->deeptools->-r requirements.txt (line 27)) (4.4.0)\n",
      "Requirement already satisfied: sphinxcontrib-devhelp in /home/lidia/anaconda3/envs/dm4/lib/python3.7/site-packages (from sphinx>=1.6.5->numpydoc>=0.5->deeptools->-r requirements.txt (line 27)) (1.0.1)\n",
      "Requirement already satisfied: sphinxcontrib-jsmath in /home/lidia/anaconda3/envs/dm4/lib/python3.7/site-packages (from sphinx>=1.6.5->numpydoc>=0.5->deeptools->-r requirements.txt (line 27)) (1.0.1)\n",
      "Requirement already satisfied: babel!=2.0,>=1.3 in /home/lidia/anaconda3/envs/dm4/lib/python3.7/site-packages (from sphinx>=1.6.5->numpydoc>=0.5->deeptools->-r requirements.txt (line 27)) (2.7.0)\n",
      "Requirement already satisfied: packaging in /home/lidia/anaconda3/envs/dm4/lib/python3.7/site-packages (from sphinx>=1.6.5->numpydoc>=0.5->deeptools->-r requirements.txt (line 27)) (19.0)\n",
      "Requirement already satisfied: imagesize in /home/lidia/anaconda3/envs/dm4/lib/python3.7/site-packages (from sphinx>=1.6.5->numpydoc>=0.5->deeptools->-r requirements.txt (line 27)) (1.1.0)\n",
      "Requirement already satisfied: sphinxcontrib-serializinghtml in /home/lidia/anaconda3/envs/dm4/lib/python3.7/site-packages (from sphinx>=1.6.5->numpydoc>=0.5->deeptools->-r requirements.txt (line 27)) (1.1.3)\n",
      "Requirement already satisfied: sphinxcontrib-qthelp in /home/lidia/anaconda3/envs/dm4/lib/python3.7/site-packages (from sphinx>=1.6.5->numpydoc>=0.5->deeptools->-r requirements.txt (line 27)) (1.0.2)\n",
      "Requirement already satisfied: docutils>=0.12 in /home/lidia/anaconda3/envs/dm4/lib/python3.7/site-packages (from sphinx>=1.6.5->numpydoc>=0.5->deeptools->-r requirements.txt (line 27)) (0.14)\n",
      "Requirement already satisfied: snowballstemmer>=1.1 in /home/lidia/anaconda3/envs/dm4/lib/python3.7/site-packages (from sphinx>=1.6.5->numpydoc>=0.5->deeptools->-r requirements.txt (line 27)) (1.2.1)\n",
      "Requirement already satisfied: Pygments>=2.0 in /home/lidia/anaconda3/envs/dm4/lib/python3.7/site-packages (from sphinx>=1.6.5->numpydoc>=0.5->deeptools->-r requirements.txt (line 27)) (2.3.1)\n",
      "Requirement already satisfied: sphinxcontrib-htmlhelp in /home/lidia/anaconda3/envs/dm4/lib/python3.7/site-packages (from sphinx>=1.6.5->numpydoc>=0.5->deeptools->-r requirements.txt (line 27)) (1.0.2)\n",
      "Requirement already satisfied: sphinxcontrib-applehelp in /home/lidia/anaconda3/envs/dm4/lib/python3.7/site-packages (from sphinx>=1.6.5->numpydoc>=0.5->deeptools->-r requirements.txt (line 27)) (1.0.1)\n",
      "Requirement already satisfied: alabaster<0.8,>=0.7 in /home/lidia/anaconda3/envs/dm4/lib/python3.7/site-packages (from sphinx>=1.6.5->numpydoc>=0.5->deeptools->-r requirements.txt (line 27)) (0.7.12)\n",
      "Requirement already satisfied: MarkupSafe>=0.23 in /home/lidia/anaconda3/envs/dm4/lib/python3.7/site-packages (from Jinja2>=2.3->numpydoc>=0.5->deeptools->-r requirements.txt (line 27)) (1.1.1)\n"
     ]
    },
    {
     "name": "stdout",
     "output_type": "stream",
     "text": [
      "Requirement already satisfied: ipython_genutils in /home/lidia/anaconda3/envs/dm4/lib/python3.7/site-packages (from nbformat>=4.2->plotly>=2.0.0->deeptools->-r requirements.txt (line 27)) (0.2.0)\r\n",
      "Requirement already satisfied: traitlets>=4.1 in /home/lidia/anaconda3/envs/dm4/lib/python3.7/site-packages (from nbformat>=4.2->plotly>=2.0.0->deeptools->-r requirements.txt (line 27)) (4.3.2)\r\n",
      "Requirement already satisfied: jsonschema!=2.5.0,>=2.4 in /home/lidia/anaconda3/envs/dm4/lib/python3.7/site-packages (from nbformat>=4.2->plotly>=2.0.0->deeptools->-r requirements.txt (line 27)) (3.0.1)\r\n",
      "Requirement already satisfied: jupyter_core in /home/lidia/anaconda3/envs/dm4/lib/python3.7/site-packages (from nbformat>=4.2->plotly>=2.0.0->deeptools->-r requirements.txt (line 27)) (4.4.0)\r\n",
      "Requirement already satisfied: attrs>=17.4.0 in /home/lidia/anaconda3/envs/dm4/lib/python3.7/site-packages (from jsonschema!=2.5.0,>=2.4->nbformat>=4.2->plotly>=2.0.0->deeptools->-r requirements.txt (line 27)) (19.1.0)\r\n",
      "Requirement already satisfied: pyrsistent>=0.14.0 in /home/lidia/anaconda3/envs/dm4/lib/python3.7/site-packages (from jsonschema!=2.5.0,>=2.4->nbformat>=4.2->plotly>=2.0.0->deeptools->-r requirements.txt (line 27)) (0.14.11)\r\n"
     ]
    }
   ],
   "source": [
    "!pip install -r requirements.txt "
   ]
  },
  {
   "cell_type": "markdown",
   "metadata": {},
   "source": [
    "### B)   Following tools couldn't be installed with \"pip install\". Install it in a different way, e.g., with bioconda.\n",
    "\n",
    "### Please open the terminal and install following tools step by step: \n",
    "\n",
    "* Installation of gff3togenepred\n",
    "\n",
    "__conda install ucsc-gff3togenepred__\n",
    "\n",
    "* Update of gff3togenepred\n",
    "\n",
    "__conda update ucsc-gff3togenepred__\n",
    "\n",
    "* Installation of GenePredToBed\n",
    "\n",
    "__conda install -c bioconda ucsc-genepredtobed__\n",
    "\n",
    "* Installation of bedtools - example\n",
    "\n",
    "__sudo apt install bedtools__\n",
    "\n",
    "__sudo apt install bedops__\n",
    "\n",
    "__sudo apt install samtools__\n",
    "\n"
   ]
  },
  {
   "cell_type": "markdown",
   "metadata": {},
   "source": [
    "### C) Besides, download [BEDOPS](https://bedops.readthedocs.io/en/latest/) for your operating system and install it. BEDOPS contains samtools, sortbed, and bamtools.\n"
   ]
  },
  {
   "cell_type": "markdown",
   "metadata": {},
   "source": [
    "***\n",
    "## 1. Prepare your GFF3 and SAM/BAM files\n",
    "\n",
    "> Please look carefully at your GFF3 file. Delete incorrect lines in your file.\n",
    "***"
   ]
  },
  {
   "cell_type": "markdown",
   "metadata": {},
   "source": [
    "***\n",
    "## 2. Convert .gff3 into .bed6\n",
    "    sortBed -i <gff3_file.gff3> | gff2bed > <bed_file.bed>\n",
    "***"
   ]
  },
  {
   "cell_type": "code",
   "execution_count": 9,
   "metadata": {},
   "outputs": [],
   "source": [
    "# Example\n",
    "!sortBed -i newSP.gff3 | gff2bed > file_bed6.bed"
   ]
  },
  {
   "cell_type": "code",
   "execution_count": 11,
   "metadata": {},
   "outputs": [],
   "source": [
    "# Sort Bed6:\n",
    "!sort -k 1,1 -k2,2n file_bed6.bed > file_bed6_sorted.bed"
   ]
  },
  {
   "cell_type": "code",
   "execution_count": 13,
   "metadata": {},
   "outputs": [],
   "source": [
    "# Sort Bed12:\n",
    "!sort -k 1,1 -k2,2n file_bed12.bed > file_bed12_sorted.bed"
   ]
  },
  {
   "cell_type": "markdown",
   "metadata": {},
   "source": [
    "***\n",
    "## 3. Convert .gff3 into .bed12\n",
    "    gff3ToGenePred infile.gff3 temp.genePre\n",
    "    \n",
    "> __HINT:__ Possible error 'CDS feature must have phase'. \n",
    "Phase is a parameter in column 8 of gff3 (only for features CDS).\n",
    "Add phases in the gff3 file according to the notes below.\n",
    "You can open your GFF3 file and add 0 in column 8 in the lines with CDS, e.g. using Regular Expressions\n",
    "In case of another type of error, e.g. \"Error: invalid genePred created: SPAC17G8.01c.1 I:2341250-2343947\", look carefully at your gff3 and check if your exons are overlapping.\n",
    "\n",
    "\n",
    "> \"Phase specifies how many nucleotides must be removed from the beginning of a CDS to reach a complete codon \n",
    "(0, 1 or 2). If phase is missing, the CDS cannot be translated without making dangerous assumptions about \n",
    "the data. Specifically, you have to assume that the first CDS has a phase of 0. For poorly assembled genomes, \n",
    "this may not by the case.\n",
    "Even if the assumption always holds, a CDS without phase data can be hard to work with since you cannot \n",
    "translate an individual CDS without considering the other members of the model.\n",
    "According to the GFF specification, phase information is required for CDS entries and is stored \n",
    "in the 8th column.\" (Source: https://support.bioconductor.org/p/101245/ available: 2019.04.03)\n",
    "***"
   ]
  },
  {
   "cell_type": "code",
   "execution_count": 17,
   "metadata": {},
   "outputs": [],
   "source": [
    "# Sort the GFF3 file by column 1 (chromosomes) and 4 (start positions) as:\n",
    "!sort -k1,1 -k4,4n newSP_phase_sort.gff3 > newSP_phase_sorted.gff3"
   ]
  },
  {
   "cell_type": "code",
   "execution_count": 18,
   "metadata": {},
   "outputs": [],
   "source": [
    "# Creating the temporary file .genePred from gff3\n",
    "!gff3ToGenePred newSP_phase_sorted.gff3 temp.genePred \n",
    "\n",
    "#\"newSP_phase.gff3\" is a gff3 file with phases in column 8."
   ]
  },
  {
   "cell_type": "code",
   "execution_count": 19,
   "metadata": {},
   "outputs": [],
   "source": [
    "# Creating BED file from temporary file\n",
    "!genePredToBed temp.genePred file_bed12.bed"
   ]
  },
  {
   "cell_type": "markdown",
   "metadata": {},
   "source": [
    "***\n",
    "## 4. Make .bigwig file"
   ]
  },
  {
   "cell_type": "markdown",
   "metadata": {},
   "source": [
    "### A) Conversion of SAM format to BAM format (if your data are in SAM)\n",
    "        samtools view -S <sam_file.sam> -b -o <bam_file.bam>"
   ]
  },
  {
   "cell_type": "code",
   "execution_count": 7,
   "metadata": {},
   "outputs": [
    {
     "name": "stdout",
     "output_type": "stream",
     "text": [
      "[E::hts_open_format] Failed to open file C1_long.sam\r\n",
      "samtools view: failed to open \"C1_long.sam\" for reading: No such file or directory\r\n"
     ]
    }
   ],
   "source": [
    "# Convert SAM to BAM\n",
    "# SAM file is too heavy with upload it on Github. \n",
    "# Below there is an example of commend, unfortunately without the file \"C1_long.sam\"\n",
    "\n",
    "!samtools view -S C1_long.sam -b -o C1_long.bam"
   ]
  },
  {
   "cell_type": "markdown",
   "metadata": {},
   "source": [
    "### B) Conversion of BAM format to BIGWIG using [bamCoverage](https://deeptools.readthedocs.io/en/develop/content/tools/bamCoverage.html#Required%20arguments) from deeptools\n",
    "\n",
    "> Steps:\n",
    "    1. Sort BAM file\n",
    "        samtools sort -n <bam_file.bam>\n",
    "    2. Add index to bam file\n",
    "        samtools index <bam_file.bam>\n",
    "    3. Convert indexed bam to bigwig\n",
    "        bamCoverage -b <bamfile.bam> -o <bibwigfile.bw>\n",
    "***"
   ]
  },
  {
   "cell_type": "markdown",
   "metadata": {},
   "source": [
    "### Sort and add index to BAM file - it is a necessary step\n",
    "\n",
    "#### __HINT:__ It works better in terminal."
   ]
  },
  {
   "cell_type": "code",
   "execution_count": null,
   "metadata": {},
   "outputs": [],
   "source": [
    "# Sort the BAM file \n",
    "!samtools sort -n C1_long.bam"
   ]
  },
  {
   "cell_type": "code",
   "execution_count": 2,
   "metadata": {},
   "outputs": [
    {
     "name": "stdout",
     "output_type": "stream",
     "text": [
      "^C\r\n"
     ]
    }
   ],
   "source": [
    "# Add index to BAM file\n",
    "!samtools index -b C1_long.bam"
   ]
  },
  {
   "cell_type": "markdown",
   "metadata": {},
   "source": [
    "### Make BIGWIG from indexed BAM\n",
    "\n",
    "Run the code in the terminal:"
   ]
  },
  {
   "cell_type": "code",
   "execution_count": 3,
   "metadata": {},
   "outputs": [
    {
     "name": "stdout",
     "output_type": "stream",
     "text": [
      "'C1_long.bam' does not appear to have an index. You MUST index the file first!\r\n"
     ]
    }
   ],
   "source": [
    "# Convert indexed bam to bigwig\n",
    "!bamCoverage -b C1_long.bam -o bigwig.bw"
   ]
  },
  {
   "cell_type": "markdown",
   "metadata": {},
   "source": [
    "### [Separate tracks](https://deeptools.readthedocs.io/en/develop/content/tools/bamCoverage.html) for each strand (forward and reverse strands):"
   ]
  },
  {
   "cell_type": "code",
   "execution_count": null,
   "metadata": {},
   "outputs": [],
   "source": [
    "# BigWig forward\n",
    "!bamCoverage -b C1_long.bam -o bigwig_forward.bw --filterRNAstrand reverse"
   ]
  },
  {
   "cell_type": "code",
   "execution_count": null,
   "metadata": {},
   "outputs": [],
   "source": [
    "# BigWig reverse\n",
    "!bamCoverage -b C1_long.bam -o bigwig_reverse.bw --filterRNAstrand forward"
   ]
  },
  {
   "cell_type": "markdown",
   "metadata": {},
   "source": [
    "### Short look at the bigwig file"
   ]
  },
  {
   "cell_type": "code",
   "execution_count": 4,
   "metadata": {},
   "outputs": [
    {
     "data": {
      "text/plain": [
       "{'version': 4,\n",
       " 'nLevels': 3,\n",
       " 'nBasesCovered': 12631379,\n",
       " 'minVal': 0,\n",
       " 'maxVal': 952468,\n",
       " 'sumData': 6263806273,\n",
       " 'sumSquared': 509597617963475}"
      ]
     },
     "execution_count": 4,
     "metadata": {},
     "output_type": "execute_result"
    }
   ],
   "source": [
    "import pyBigWig\n",
    "\n",
    "bw = pyBigWig.open(\"bigwig.bw\")\n",
    "bw.header()"
   ]
  },
  {
   "cell_type": "markdown",
   "metadata": {},
   "source": [
    "***\n",
    "## 5. Preparing the INI file"
   ]
  },
  {
   "cell_type": "markdown",
   "metadata": {},
   "source": [
    "### A) Preparing the INI file by editing an existing file\n",
    ">You can prepare your INI file from scratch (protocol below). However, we strongly recommend to use previously prepared INI files, and edit them (using helper functions or in a text editor).\n",
    "\n",
    ">The examples of color names are [here](https://www.w3schools.com/colors/colors_picker.asp)."
   ]
  },
  {
   "cell_type": "markdown",
   "metadata": {},
   "source": [
    "### B) Preparing of INI file from scratch -- using helper functions in ini_edit.py\n",
    "> The helper functions allow to prepare a new ini file or to add some dictionary, section or file to existing ini file.\n",
    "\n",
    "> All prepared helper functions are saved in file __ini_edit.py__. You can import the content of the file as below, and use all of the function in Python.\n",
    "\n",
    "> __List of helper functions in ini_edit.py__: \n",
    "    * czytaj_konfig(nazwa_pliku)\n",
    "    * zapisz_ini_ze_slownik(slownik, nazwa_pliku)\n",
    "    * add_ini_slownik(slownik, nazwa_pliku, nowa_nazwa=None)\n",
    "    * dopisz_do_konfig(konfig, slownik)\n",
    "\n",
    ">#### Use belowed commend to look at the description of one of the helper functions in ini_edit.py :\n",
    "    ?? ini_edit.add_ini_slownik  \n",
    "***"
   ]
  },
  {
   "cell_type": "code",
   "execution_count": 5,
   "metadata": {},
   "outputs": [],
   "source": [
    "# Import ini_edit.py where are all helper functions\n",
    "import ini_edit"
   ]
  },
  {
   "cell_type": "code",
   "execution_count": 6,
   "metadata": {},
   "outputs": [],
   "source": [
    "# To look at the functions in \n",
    "?? ini_edit.add_ini_slownik"
   ]
  },
  {
   "cell_type": "markdown",
   "metadata": {},
   "source": [
    "### The helper functions are also here: (PS. Some names are in Polish - I will change it soon)"
   ]
  },
  {
   "cell_type": "code",
   "execution_count": 11,
   "metadata": {},
   "outputs": [],
   "source": [
    "\"\"\"\n",
    "the 'helper functions' for reading and editing the INI files\n",
    "\n",
    "słownik do ini ma zawsze formę:\n",
    "\n",
    "slownik[nazwa_sekcji][nazwa_elementu]= wartosc_elementu\n",
    "\n",
    "i to się zamieni w pliku ini na:\n",
    "\n",
    "[nazwa sekcji]\n",
    "nazwa_elementu = wartosc_elementu\n",
    "\n",
    "\"\"\"\n",
    "import configparser\n",
    "\n",
    "\n",
    "def czytaj_konfig(nazwa_pliku):\n",
    "    pass\n",
    "\n",
    "\n",
    "def zapisz_ini_ze_slownik(slownik, nazwa_pliku):\n",
    "    \"\"\"zapisuje konfigurację ini na podstawie słownika\n",
    "\n",
    "    Args:\n",
    "        slownik (dict): slownik do zapisania\n",
    "        nazwa_pliku (str): nazwa/ sciezka do pliku\n",
    "\n",
    "    Slownik musi mieć formę, że dla każdego klucza,\n",
    "    oznaczającego sekcję\n",
    "    jest kolejny słownik zawierający poszczególne\n",
    "    elementy\n",
    "    \n",
    "    Examples:\n",
    "        >>> slownik={\"UW\":{\"Faculty_of_Biology\":\"IGIB\"}}\n",
    "        >>> slownik[\"x-axis\"]={\"fontsize\":20}\n",
    "        >>> slownik[\"x-axis\"][\"where\"]=\"top\"\n",
    "        >>> zapisz_konfig(slownik,\"nowa_li_slownik.ini\")\n",
    "        plik nowa_li_slownik.ini zapisany\n",
    "\n",
    "    \"\"\"\n",
    "    config = configparser.RawConfigParser()\n",
    "    config.read_dict(slownik)\n",
    "    config.write(open(nazwa_pliku, \"w\"))\n",
    "    print(\"plik {} zapisany\".format(nazwa_pliku))\n",
    "\n",
    "\n",
    "def add_ini_slownik(slownik, nazwa_pliku, nowa_nazwa=None):\n",
    "    \"\"\" Funkcja do pliku ini dopisuje dane ze słownika\n",
    "    \n",
    "    Args:\n",
    "        slownik (dict): slownik z sekcjami i elementami\n",
    "        nazwa_pliku (path): ścieżka do pliku ini który jest bazą do zmian\n",
    "        nowa_nazwa (path): ścieżka do pliku ini który będzie wynikowym plikiem, plik opcjonalny (możemy nadpisać nazwa_pliku)\n",
    "    \n",
    "    Examples:\n",
    "        >>> slownik_z_nowymi_rzeczami={\"UW\":{\"Faculty_of_Biology\":\"IGIB\"}}\n",
    "        >>> add_ini_slownik(slownik_z_nowymi_rzeczami,\"testtt.ini\",\"nowy_nowy.ini\")\n",
    "    \"\"\"\n",
    "    config = configparser.RawConfigParser()\n",
    "    config.read(nazwa_pliku)\n",
    "    dopisz_do_konfig(config, slownik)\n",
    "    if nowa_nazwa:\n",
    "        nazwa_pliku=nowa_nazwa\n",
    "    \n",
    "    config.write(open(nazwa_pliku,\"w\"))\n",
    "    print(\"zapisano pod nazwą\", nazwa_pliku)\n",
    "\n",
    "\n",
    "def dopisz_do_konfig(konfig, slownik):\n",
    "    \"\"\"do obiektu konfig dopisuje (w miejscu) elementy ze slownika\n",
    "    Args:\n",
    "        konfig (configparser.RawConfigParser): obiekt zawierajacy konfigurację\n",
    "        slownik (dict): slownik z sekcjami i elementami\n",
    "        \n",
    "    \"\"\" \n",
    "    \n",
    "    for nazwa_sekcji,slownik_sekcji in slownik.items():\n",
    "        \n",
    "        try:\n",
    "            konfig.add_section(nazwa_sekcji)\n",
    "        except :\n",
    "            print(\"sekcja {} już istniała\".format(nazwa_sekcji))\n",
    "        \n",
    "        for nazwa_el,wartosc_el in slownik_sekcji.items():\n",
    "            konfig.set(nazwa_sekcji,nazwa_el,wartosc_el)\n",
    "    "
   ]
  },
  {
   "cell_type": "markdown",
   "metadata": {},
   "source": [
    "***\n",
    "#### ~ Open PGT_DEMO_Part2_Genome 20Visualization.ipynb to visualize the genome~\n",
    "***"
   ]
  },
  {
   "cell_type": "code",
   "execution_count": null,
   "metadata": {},
   "outputs": [],
   "source": []
  }
 ],
 "metadata": {
  "kernelspec": {
   "display_name": "Python 3",
   "language": "python",
   "name": "python3"
  },
  "language_info": {
   "codemirror_mode": {
    "name": "ipython",
    "version": 3
   },
   "file_extension": ".py",
   "mimetype": "text/x-python",
   "name": "python",
   "nbconvert_exporter": "python",
   "pygments_lexer": "ipython3",
   "version": "3.7.1"
  }
 },
 "nbformat": 4,
 "nbformat_minor": 2
}
